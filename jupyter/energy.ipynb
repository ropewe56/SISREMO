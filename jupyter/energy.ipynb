{
 "cells": [
  {
   "cell_type": "code",
   "execution_count": 38,
   "metadata": {},
   "outputs": [],
   "source": [
    "using PhysConst\n",
    "using PhysConst.UnitConst"
   ]
  },
  {
   "cell_type": "code",
   "execution_count": 39,
   "metadata": {},
   "outputs": [
    {
     "data": {
      "text/plain": [
       "11.8 hr kW kg^-1"
      ]
     },
     "metadata": {},
     "output_type": "display_data"
    }
   ],
   "source": [
    "# Brennwert\n",
    "BWBenzin = uconvert(u_kWh / u_kg, 43.0e6 * u_J/u_kg)\n",
    "BWDiesel = uconvert(u_kWh / u_kg, 45.4e6 * u_J / u_kg)\n",
    "\n",
    "# Heizwert\n",
    "HWBenzin = 11.4   * u_kWh / u_kg\n",
    "HWDiesel = 11.8   * u_kWh/u_kg"
   ]
  },
  {
   "cell_type": "code",
   "execution_count": 40,
   "metadata": {},
   "outputs": [
    {
     "data": {
      "text/plain": [
       "0.835 kg dm^-3"
      ]
     },
     "metadata": {},
     "output_type": "display_data"
    }
   ],
   "source": [
    "ρBenzin = 0.75 * u_kg / u_l\n",
    "ρDiesel = 0.835 * u_kg / u_l"
   ]
  },
  {
   "cell_type": "code",
   "execution_count": 41,
   "metadata": {},
   "outputs": [
    {
     "data": {
      "text/plain": [
       "10.530277777777776 hr kW dm^-3"
      ]
     },
     "metadata": {},
     "output_type": "display_data"
    }
   ],
   "source": [
    "# Energieinhalt 1 l Diesel\n",
    "BWDiesel * ρDiesel"
   ]
  },
  {
   "cell_type": "code",
   "execution_count": 42,
   "metadata": {},
   "outputs": [
    {
     "data": {
      "text/plain": [
       "1487.9999999999995 hr kW"
      ]
     },
     "metadata": {},
     "output_type": "display_data"
    }
   ],
   "source": [
    "Heizung_2022_2023 = (12.408 - 10.920) * 1.0e3 * u_kWh"
   ]
  },
  {
   "cell_type": "code",
   "execution_count": 43,
   "metadata": {},
   "outputs": [
    {
     "data": {
      "text/plain": [
       "4184.0 J kg^-1 K^-1"
      ]
     },
     "metadata": {},
     "output_type": "display_data"
    }
   ],
   "source": [
    "cp_wasser = 4.184 * u_kJ/(u_kg * u_K) # (14,5 °C)"
   ]
  },
  {
   "cell_type": "code",
   "execution_count": 44,
   "metadata": {},
   "outputs": [
    {
     "data": {
      "text/plain": [
       "1000.0 kg m^-3"
      ]
     },
     "metadata": {},
     "output_type": "display_data"
    }
   ],
   "source": [
    "WarmWasser = (153.484 - 136.026) * u_m^3\n",
    "ρWasser = 1.0e3 * u_kg/u_m^3"
   ]
  },
  {
   "cell_type": "code",
   "execution_count": 45,
   "metadata": {},
   "outputs": [
    {
     "data": {
      "text/plain": [
       "1014.5037777777777 hr kW"
      ]
     },
     "metadata": {},
     "output_type": "display_data"
    }
   ],
   "source": [
    "# Energieverbrauch Warmwasser\n",
    "uconvert(u_kWh, WarmWasser * ρWasser * cp_wasser * 50.0 * u_K)"
   ]
  },
  {
   "cell_type": "code",
   "execution_count": 46,
   "metadata": {},
   "outputs": [
    {
     "name": "stdout",
     "output_type": "stream",
     "text": [
      "8401.18800000001 m^3 5775.816750000006 hr kW\n"
     ]
    }
   ],
   "source": [
    "# Gas\n",
    "HWGas = 11.0 * u_kWh / u_m^3\n",
    "V = (67082.642 - 58681.454) * u_m^3\n",
    "println(V, \" \", V*HWGas/16.0)"
   ]
  },
  {
   "cell_type": "code",
   "execution_count": 47,
   "metadata": {},
   "outputs": [
    {
     "data": {
      "text/plain": [
       "1912.0 hr kW"
      ]
     },
     "metadata": {},
     "output_type": "display_data"
    }
   ],
   "source": [
    "# Strom\n",
    "(12320.0 - 10408.0) * u_kWh"
   ]
  },
  {
   "cell_type": "code",
   "execution_count": null,
   "metadata": {},
   "outputs": [],
   "source": []
  }
 ],
 "metadata": {
  "kernelspec": {
   "display_name": "Julia 1.10.3",
   "language": "julia",
   "name": "julia-1.10"
  },
  "language_info": {
   "file_extension": ".jl",
   "mimetype": "application/julia",
   "name": "julia",
   "version": "1.10.3"
  }
 },
 "nbformat": 4,
 "nbformat_minor": 4
}
